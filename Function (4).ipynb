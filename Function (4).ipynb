{
  "cells": [
    {
      "cell_type": "markdown",
      "id": "4a36cff5-5fb2-4eea-ac24-37f35082c09f",
      "metadata": {
        "id": "4a36cff5-5fb2-4eea-ac24-37f35082c09f"
      },
      "source": [
        "# Function Theory"
      ]
    },
    {
      "cell_type": "markdown",
      "id": "8ab8e78d-ec25-4a6b-834d-ed90314da1d5",
      "metadata": {
        "id": "8ab8e78d-ec25-4a6b-834d-ed90314da1d5"
      },
      "source": [
        "### 1.\tWhat is the difference between a function and a method in Python?"
      ]
    },
    {
      "cell_type": "code",
      "execution_count": null,
      "id": "d2a5f0e5-2584-4db2-84a8-53eb3c6b4ecb",
      "metadata": {
        "id": "d2a5f0e5-2584-4db2-84a8-53eb3c6b4ecb",
        "outputId": "0ae7ea5d-1eb6-48f7-85e6-bff4d72d78b0",
        "colab": {
          "base_uri": "https://localhost:8080/"
        }
      },
      "outputs": [
        {
          "output_type": "stream",
          "name": "stdout",
          "text": [
            "Hello, Rahul\n",
            "Hello!\n"
          ]
        }
      ],
      "source": [
        "# Function: A block of code that performs a specific task. It is defined using def and can be called independently.\n",
        "# Method: A function that is associated with an object (usually defined inside a class). It is called using object.method().\n",
        "# Example:\n",
        "\n",
        "# Function\n",
        "def greet(name):\n",
        "    return f\"Hello, {name}\"\n",
        "\n",
        "print(greet(\"Rahul\"))\n",
        "\n",
        "# Method\n",
        "class Person:\n",
        "    def greet(self):\n",
        "        return \"Hello!\"\n",
        "\n",
        "p = Person()\n",
        "print(p.greet())\n"
      ]
    },
    {
      "cell_type": "markdown",
      "id": "cc67ce64-ed5f-40b9-9b4e-6f3cda6921e2",
      "metadata": {
        "id": "cc67ce64-ed5f-40b9-9b4e-6f3cda6921e2"
      },
      "source": [
        "### 2.\tExplain the concept of function arguments and parameters in Python?"
      ]
    },
    {
      "cell_type": "code",
      "execution_count": null,
      "id": "58d1930b-02d1-4ee0-a8b1-4b20a7d964ed",
      "metadata": {
        "id": "58d1930b-02d1-4ee0-a8b1-4b20a7d964ed",
        "outputId": "40071061-d42d-4094-8416-9b408c5e6f4a"
      },
      "outputs": [
        {
          "name": "stdout",
          "output_type": "stream",
          "text": [
            "8\n"
          ]
        }
      ],
      "source": [
        "# •\tParameter: Variable defined inside the function header.\n",
        "# •\tArgument: Actual value passed when calling the function.\n",
        "# Example:\n",
        "def add(a, b):   # a and b are parameters\n",
        "    return a + b\n",
        "\n",
        "print(add(3, 5))  # 3 and 5 are arguments"
      ]
    },
    {
      "cell_type": "markdown",
      "id": "3cc9674d-e03f-4793-8f55-38c540960123",
      "metadata": {
        "id": "3cc9674d-e03f-4793-8f55-38c540960123"
      },
      "source": [
        "### 3.\tWhat are the different ways to define and call a function in Python?"
      ]
    },
    {
      "cell_type": "code",
      "execution_count": null,
      "id": "78ecccd3-8111-4617-8937-733974a38448",
      "metadata": {
        "id": "78ecccd3-8111-4617-8937-733974a38448",
        "outputId": "826db521-62db-434b-8ecd-c25c8cc21834",
        "colab": {
          "base_uri": "https://localhost:8080/"
        }
      },
      "outputs": [
        {
          "output_type": "stream",
          "name": "stdout",
          "text": [
            "16\n",
            "27\n",
            "25\n"
          ]
        }
      ],
      "source": [
        "# •\tNormal function using def\n",
        "# •\tLambda function\n",
        "# •\tUsing recursion\n",
        "# •\tCalling with positional, keyword, default, and variable-length arguments\n",
        "# Example:\n",
        "def square(x):   # normal function\n",
        "    return x * x\n",
        "\n",
        "# Lambda function\n",
        "cube = lambda x: x**3\n",
        "\n",
        "print(square(4))\n",
        "print(cube(3))\n",
        "print(square(x=5))\n"
      ]
    },
    {
      "cell_type": "markdown",
      "id": "2c4b46a7-f097-4f5a-9389-0d12e376263b",
      "metadata": {
        "id": "2c4b46a7-f097-4f5a-9389-0d12e376263b"
      },
      "source": [
        "### 4.\tWhat is the purpose of the ‘return’ statement in a Python function?"
      ]
    },
    {
      "cell_type": "code",
      "execution_count": null,
      "id": "89c13f81-f9d4-4ad0-8b0a-90ec24a67af7",
      "metadata": {
        "id": "89c13f81-f9d4-4ad0-8b0a-90ec24a67af7",
        "outputId": "1f992ee6-4555-4d69-8ea2-182184a9e5f7",
        "colab": {
          "base_uri": "https://localhost:8080/"
        }
      },
      "outputs": [
        {
          "output_type": "stream",
          "name": "stdout",
          "text": [
            "20\n"
          ]
        }
      ],
      "source": [
        "# •\treturn is used to send a value back from a function to the caller.\n",
        "# •\tWithout return, the function gives None.\n",
        "# Example:\n",
        "def multiply(a, b):\n",
        "    return a * b\n",
        "\n",
        "result = multiply(4, 5)\n",
        "print(result)\n",
        "\n"
      ]
    },
    {
      "cell_type": "markdown",
      "id": "cea8955d-0bab-4e94-a161-6cba8e216ef2",
      "metadata": {
        "id": "cea8955d-0bab-4e94-a161-6cba8e216ef2"
      },
      "source": [
        "### 5.\tWhat are Iterators in Python and how do they differ from Iterables?"
      ]
    },
    {
      "cell_type": "code",
      "execution_count": null,
      "id": "993e29fe-eebf-4468-8488-f05cb3891d4b",
      "metadata": {
        "id": "993e29fe-eebf-4468-8488-f05cb3891d4b",
        "outputId": "1854b268-8ff5-4071-87bc-68de7c09ac5c"
      },
      "outputs": [
        {
          "name": "stdout",
          "output_type": "stream",
          "text": [
            "1\n",
            "2\n"
          ]
        }
      ],
      "source": [
        "# •\tIterable: An object that can return an iterator (e.g., lists, tuples, strings).\n",
        "# •\tIterator: An object with __iter__() and __next__() methods, used to get items one by one.\n",
        "# Example:\n",
        "nums = [1, 2, 3]        # Iterable\n",
        "it = iter(nums)         # Iterator\n",
        "print(next(it))\n",
        "print(next(it))\n"
      ]
    },
    {
      "cell_type": "markdown",
      "id": "350ef248-ac88-47d6-ae67-f4299864f53b",
      "metadata": {
        "id": "350ef248-ac88-47d6-ae67-f4299864f53b"
      },
      "source": [
        "### 6.\tExplain the concept of generators in Python and how they are defined."
      ]
    },
    {
      "cell_type": "code",
      "execution_count": null,
      "id": "ff24a4e5-3467-45e2-b9f5-7c1bb4f7d619",
      "metadata": {
        "id": "ff24a4e5-3467-45e2-b9f5-7c1bb4f7d619",
        "outputId": "a7882ca8-55d3-4da7-d493-f2cf6d06887d"
      },
      "outputs": [
        {
          "name": "stdout",
          "output_type": "stream",
          "text": [
            "1\n",
            "2\n",
            "3\n",
            "4\n",
            "5\n"
          ]
        }
      ],
      "source": [
        "# •\tSpecial functions that use yield instead of return.\n",
        "# •\tThey produce values one at a time (lazy evaluation).\n",
        "# Example:\n",
        "def count_up_to(n):\n",
        "    i = 1\n",
        "    while i <= n:\n",
        "        yield i\n",
        "        i += 1\n",
        "\n",
        "for num in count_up_to(5):\n",
        "    print(num)"
      ]
    },
    {
      "cell_type": "markdown",
      "id": "de2a4acf-8eee-4788-8e5f-48288a734327",
      "metadata": {
        "id": "de2a4acf-8eee-4788-8e5f-48288a734327"
      },
      "source": [
        "### 7.\tWhat are the advantages of using generators over regular functions?"
      ]
    },
    {
      "cell_type": "code",
      "execution_count": null,
      "id": "cd468378-d8d7-432c-8363-29476acf2c3a",
      "metadata": {
        "id": "cd468378-d8d7-432c-8363-29476acf2c3a",
        "outputId": "c7410c8d-7e8f-4ac6-9fa8-970912e28072"
      },
      "outputs": [
        {
          "name": "stdout",
          "output_type": "stream",
          "text": [
            "0\n",
            "1\n",
            "4\n",
            "9\n",
            "16\n"
          ]
        }
      ],
      "source": [
        "# •\tMemory efficient (don’t store entire result in memory).\n",
        "# •\tUseful for large datasets or infinite sequences.\n",
        "# •\tFaster iteration as values are generated on demand.\n",
        "# Example:\n",
        "# Generator\n",
        "def squares(n):\n",
        "    for i in range(n):\n",
        "        yield i*i\n",
        "\n",
        "for val in squares(5):\n",
        "    print(val)"
      ]
    },
    {
      "cell_type": "markdown",
      "id": "1884bc8f-61a9-4617-a6c7-345be6072630",
      "metadata": {
        "id": "1884bc8f-61a9-4617-a6c7-345be6072630"
      },
      "source": [
        "### 8.\tWhat is a lambda function in Python and when is it typically used?"
      ]
    },
    {
      "cell_type": "code",
      "execution_count": null,
      "id": "d4a1a3a7-abe1-47cc-bd72-50cd8b8d93b6",
      "metadata": {
        "id": "d4a1a3a7-abe1-47cc-bd72-50cd8b8d93b6",
        "outputId": "b1bc6c95-0249-4837-f3c5-643d7ab8bef2"
      },
      "outputs": [
        {
          "name": "stdout",
          "output_type": "stream",
          "text": [
            "5\n"
          ]
        }
      ],
      "source": [
        "# •\tSmall anonymous function defined with lambda.\n",
        "# •\tTypically used when function is simple and short.\n",
        "# Example:\n",
        "add = lambda a, b: a + b\n",
        "print(add(2, 3))\n"
      ]
    },
    {
      "cell_type": "markdown",
      "id": "7ebeb416-b7f1-401b-b5d1-6c6fe78deaa3",
      "metadata": {
        "id": "7ebeb416-b7f1-401b-b5d1-6c6fe78deaa3"
      },
      "source": [
        "### 9.\tExplain the purpose and usage of ‘map()’ function in Python."
      ]
    },
    {
      "cell_type": "code",
      "execution_count": null,
      "id": "7a0f08f2-465c-4123-bda0-4689b51c4d09",
      "metadata": {
        "id": "7a0f08f2-465c-4123-bda0-4689b51c4d09",
        "outputId": "e92793d8-6c63-400c-a8b6-09751a38e945"
      },
      "outputs": [
        {
          "name": "stdout",
          "output_type": "stream",
          "text": [
            "[1, 4, 9, 16]\n"
          ]
        }
      ],
      "source": [
        "# •\tmap() applies a function to each element of an iterable.\n",
        "# Example:\n",
        "nums = [1, 2, 3, 4]\n",
        "squared = list(map(lambda x: x**2, nums))\n",
        "print(squared)\n"
      ]
    },
    {
      "cell_type": "markdown",
      "id": "7053859f-b634-4033-bc28-44b6014a0f13",
      "metadata": {
        "id": "7053859f-b634-4033-bc28-44b6014a0f13"
      },
      "source": [
        "### 10.\twhat is the difference between ‘map()’ , ‘ reduce()’ , ‘ and ‘filter()’ functions in Python?"
      ]
    },
    {
      "cell_type": "code",
      "execution_count": null,
      "id": "8eae768d-e529-44d8-be87-58bf5704c913",
      "metadata": {
        "id": "8eae768d-e529-44d8-be87-58bf5704c913",
        "outputId": "7a69e119-868b-45a2-9b81-3e9282893829",
        "colab": {
          "base_uri": "https://localhost:8080/"
        }
      },
      "outputs": [
        {
          "output_type": "stream",
          "name": "stdout",
          "text": [
            "[2, 4, 6, 8, 10]\n",
            "[2, 4]\n",
            "15\n"
          ]
        }
      ],
      "source": [
        "# •\tmap() → applies a function to every element.\n",
        "# •\tfilter() → selects elements based on a condition.\n",
        "# •\treduce() → applies a function cumulatively to reduce elements to a single value.\n",
        "# Example:\n",
        "from functools import reduce\n",
        "\n",
        "nums = [1, 2, 3, 4, 5]\n",
        "\n",
        "print(list(map(lambda x: x*2, nums)))\n",
        "print(list(filter(lambda x: x%2==0, nums)))\n",
        "print(reduce(lambda x, y: x+y, nums))\n"
      ]
    },
    {
      "cell_type": "markdown",
      "id": "b8ff8d7a-7dbb-4c84-81ec-27531f40679e",
      "metadata": {
        "id": "b8ff8d7a-7dbb-4c84-81ec-27531f40679e"
      },
      "source": [
        "### 11.\tUsing pen & Paper write the internal mechanism for sum operation using  reduce function on this givenlist:[47,11,42,13];\n"
      ]
    },
    {
      "cell_type": "code",
      "execution_count": null,
      "id": "570b7092-7d06-4b7b-916e-c97403bacec6",
      "metadata": {
        "id": "570b7092-7d06-4b7b-916e-c97403bacec6",
        "outputId": "f103e72c-e57b-44e8-f50e-85df0b8832a6"
      },
      "outputs": [
        {
          "name": "stdout",
          "output_type": "stream",
          "text": [
            "x = 47, y = 11 → x + y = 58\n",
            "x = 58, y = 42 → x + y = 100\n",
            "x = 100, y = 13 → x + y = 113\n",
            "Final Result: 113\n"
          ]
        }
      ],
      "source": [
        "from functools import reduce\n",
        "\n",
        "nums = [47, 11, 42, 13]\n",
        "\n",
        "def show_sum(x, y):\n",
        "    result = x + y\n",
        "    print(f\"x = {x}, y = {y} → x + y = {result}\")\n",
        "    return result\n",
        "\n",
        "result = reduce(show_sum, nums)\n",
        "print(\"Final Result:\", result)\n"
      ]
    },
    {
      "cell_type": "markdown",
      "id": "097812b0-523b-4144-a436-24e1a462f58c",
      "metadata": {
        "id": "097812b0-523b-4144-a436-24e1a462f58c"
      },
      "source": [
        "# Function Practical Questions:"
      ]
    },
    {
      "cell_type": "markdown",
      "id": "71df0f27-63eb-4f21-915d-765b30e3248d",
      "metadata": {
        "id": "71df0f27-63eb-4f21-915d-765b30e3248d"
      },
      "source": [
        "### 1. Write a Python function that takes a list of numbers as input and returns the sum of all even numbers in the list."
      ]
    },
    {
      "cell_type": "code",
      "execution_count": null,
      "id": "359fc0e9-0efe-43c4-bd97-d97612d1155e",
      "metadata": {
        "id": "359fc0e9-0efe-43c4-bd97-d97612d1155e",
        "outputId": "c682dfd4-0d28-49dd-c099-6cef20dfc2f2"
      },
      "outputs": [
        {
          "name": "stdout",
          "output_type": "stream",
          "text": [
            "12\n"
          ]
        }
      ],
      "source": [
        "def sum_of_even(numbers):\n",
        "    return sum(num for num in numbers if num % 2 == 0)\n",
        "\n",
        "# Example\n",
        "print(sum_of_even([1, 2, 3, 4, 5, 6]))"
      ]
    },
    {
      "cell_type": "markdown",
      "id": "b9fe36b7-660b-4b87-ae45-25c51595e7b9",
      "metadata": {
        "id": "b9fe36b7-660b-4b87-ae45-25c51595e7b9"
      },
      "source": [
        "### 2. Create a Python function that accepts a string and returns the reverse of that string."
      ]
    },
    {
      "cell_type": "code",
      "execution_count": null,
      "id": "955baa41-984b-49c4-b96a-7382bc4b3b1c",
      "metadata": {
        "id": "955baa41-984b-49c4-b96a-7382bc4b3b1c",
        "outputId": "ccb254ce-89e9-4ca8-82de-e78bd07324d4"
      },
      "outputs": [
        {
          "name": "stdout",
          "output_type": "stream",
          "text": [
            "nohtyP\n"
          ]
        }
      ],
      "source": [
        "def reverse_string(s):\n",
        "    return s[::-1]\n",
        "\n",
        "# Example\n",
        "print(reverse_string(\"Python\"))"
      ]
    },
    {
      "cell_type": "markdown",
      "id": "d00202e0-1d1e-4559-b12a-5d8b9870623c",
      "metadata": {
        "id": "d00202e0-1d1e-4559-b12a-5d8b9870623c"
      },
      "source": [
        "### 3. Implement a Python function that takes a list of integers and returns a new list containing the squares of each number."
      ]
    },
    {
      "cell_type": "code",
      "execution_count": null,
      "id": "b4ac5838-8599-4378-acf7-d452cf9bc489",
      "metadata": {
        "id": "b4ac5838-8599-4378-acf7-d452cf9bc489",
        "outputId": "ec8c02a6-b451-4aa3-d6ac-794cfd7a3e9b",
        "colab": {
          "base_uri": "https://localhost:8080/"
        }
      },
      "outputs": [
        {
          "output_type": "stream",
          "name": "stdout",
          "text": [
            "[1, 4, 9, 16]\n"
          ]
        }
      ],
      "source": [
        "def squares_list(numbers):\n",
        "    return [n**2 for n in numbers]\n",
        "\n",
        "# Example\n",
        "print(squares_list([1, 2, 3, 4]))"
      ]
    },
    {
      "cell_type": "markdown",
      "id": "0117cb64-dc04-47f9-8ade-77c5c68eab33",
      "metadata": {
        "id": "0117cb64-dc04-47f9-8ade-77c5c68eab33"
      },
      "source": [
        "### 4. Write a Python function that checks if a given number is prime or not from 1 to 200."
      ]
    },
    {
      "cell_type": "code",
      "execution_count": null,
      "id": "2bcb0edd-3019-4b55-88db-c7bf7a6b2f8f",
      "metadata": {
        "id": "2bcb0edd-3019-4b55-88db-c7bf7a6b2f8f",
        "outputId": "8d12c340-bdd0-4c19-d393-762ccf75dc94"
      },
      "outputs": [
        {
          "name": "stdout",
          "output_type": "stream",
          "text": [
            "[2, 3, 5, 7, 11, 13, 17, 19, 23, 29, 31, 37, 41, 43, 47, 53, 59, 61, 67, 71, 73, 79, 83, 89, 97, 101, 103, 107, 109, 113, 127, 131, 137, 139, 149, 151, 157, 163, 167, 173, 179, 181, 191, 193, 197, 199]\n"
          ]
        }
      ],
      "source": [
        "def is_prime(n):\n",
        "    if n < 2:\n",
        "        return False\n",
        "    for i in range(2, int(n**0.5)+1):\n",
        "        if n % i == 0:\n",
        "            return False\n",
        "    return True\n",
        "\n",
        "# Example\n",
        "print([n for n in range(1, 201) if is_prime(n)])"
      ]
    },
    {
      "cell_type": "markdown",
      "id": "690d92f2-68c8-4e05-b579-0c0d45ad98a2",
      "metadata": {
        "id": "690d92f2-68c8-4e05-b579-0c0d45ad98a2"
      },
      "source": [
        "### 5. Create an iterator class in Python that generates the Fibonacci sequence up to a specified number of terms."
      ]
    },
    {
      "cell_type": "code",
      "execution_count": null,
      "id": "3f91ee9e-a89c-4f3a-804b-550fd4ac561f",
      "metadata": {
        "id": "3f91ee9e-a89c-4f3a-804b-550fd4ac561f",
        "outputId": "bea53d18-079f-4ac5-d5a4-6d66de4ab142"
      },
      "outputs": [
        {
          "name": "stdout",
          "output_type": "stream",
          "text": [
            "0 1 1 2 3 5 8 13 21 34 "
          ]
        }
      ],
      "source": [
        "class Fibonacci:\n",
        "    def __init__(self, n):\n",
        "        self.n = n\n",
        "        self.a, self.b = 0, 1\n",
        "        self.count = 0\n",
        "\n",
        "    def __iter__(self):\n",
        "        return self\n",
        "\n",
        "    def __next__(self):\n",
        "        if self.count >= self.n:\n",
        "            raise StopIteration\n",
        "        self.count += 1\n",
        "        value = self.a\n",
        "        self.a, self.b = self.b, self.a + self.b\n",
        "        return value\n",
        "\n",
        "# Example\n",
        "for num in Fibonacci(10):\n",
        "    print(num, end=\" \")"
      ]
    },
    {
      "cell_type": "markdown",
      "id": "cf5360c3-23b1-42cf-8976-96bd120b2295",
      "metadata": {
        "id": "cf5360c3-23b1-42cf-8976-96bd120b2295"
      },
      "source": [
        "### 6. Write a generator function in Python that yields the powers of 2 up to a given exponent."
      ]
    },
    {
      "cell_type": "code",
      "execution_count": null,
      "id": "01c53734-9b4a-4246-a835-eac4d8b347d4",
      "metadata": {
        "id": "01c53734-9b4a-4246-a835-eac4d8b347d4",
        "outputId": "3cd96a6d-d539-481b-fbe4-83ee77176f84"
      },
      "outputs": [
        {
          "data": {
            "text/plain": [
              "[100]"
            ]
          },
          "execution_count": 19,
          "metadata": {},
          "output_type": "execute_result"
        }
      ],
      "source": [
        "def square_number(n):\n",
        " result = []\n",
        " result.append(n ** 2)\n",
        " return result\n",
        "square_number(10)"
      ]
    },
    {
      "cell_type": "markdown",
      "id": "5c70579f-ced2-4d94-81d8-256a830e07d1",
      "metadata": {
        "id": "5c70579f-ced2-4d94-81d8-256a830e07d1"
      },
      "source": [
        "### 7. Implement a generator function that reads a file line by line and yields each line as a string."
      ]
    },
    {
      "cell_type": "code",
      "execution_count": null,
      "id": "117d6512-e38e-4e84-b884-394fabd10baf",
      "metadata": {
        "id": "117d6512-e38e-4e84-b884-394fabd10baf"
      },
      "outputs": [],
      "source": [
        "def read_file_lines(filename):\n",
        "    with open(filename, 'r') as file:\n",
        "        for line in file:\n",
        "            yield line.strip()\n",
        "\n",
        "#Example (assuming sample.txt exists)\n",
        "#for line in read_file_lines(\"sample.txt\"):\n",
        " #print(line"
      ]
    },
    {
      "cell_type": "markdown",
      "id": "cf50a71b-a1b3-4e0d-b0a1-70ec191a299b",
      "metadata": {
        "id": "cf50a71b-a1b3-4e0d-b0a1-70ec191a299b"
      },
      "source": [
        "### 8. Use a lambda function in Python to sort a list of tuples based on the second element of each tuple."
      ]
    },
    {
      "cell_type": "code",
      "execution_count": null,
      "id": "c45ce07c-6c48-4099-abde-e80d56b4d136",
      "metadata": {
        "id": "c45ce07c-6c48-4099-abde-e80d56b4d136",
        "outputId": "0a239810-a918-43d3-9ec2-63dd13ed309f"
      },
      "outputs": [
        {
          "name": "stdout",
          "output_type": "stream",
          "text": [
            "[(3, 1), (2, 4), (1, 5)]\n"
          ]
        }
      ],
      "source": [
        "data = [(1, 5), (3, 1), (2, 4)]\n",
        "sorted_data = sorted(data, key=lambda x: x[1])\n",
        "print(sorted_data)  # Output: [(3, 1), (2, 4), (1, 5)]"
      ]
    },
    {
      "cell_type": "markdown",
      "id": "50d89a85-314e-48b1-8d8a-e1b65e2491ce",
      "metadata": {
        "id": "50d89a85-314e-48b1-8d8a-e1b65e2491ce"
      },
      "source": [
        "### 9. Write a Python program that uses `map()` to convert a list of temperatures from Celsius to Fahrenheit."
      ]
    },
    {
      "cell_type": "code",
      "execution_count": null,
      "id": "ef2f1449-c5d2-4201-afad-65123f9dda7c",
      "metadata": {
        "id": "ef2f1449-c5d2-4201-afad-65123f9dda7c",
        "outputId": "3de916bf-4e99-4bd0-e070-09f037ecc4bb"
      },
      "outputs": [
        {
          "name": "stdout",
          "output_type": "stream",
          "text": [
            "[32.0, 68.0, 98.6, 212.0]\n"
          ]
        }
      ],
      "source": [
        "temps_c = [0, 20, 37, 100]\n",
        "temps_f = list(map(lambda c: (c * 9/5) + 32, temps_c))\n",
        "print(temps_f)"
      ]
    },
    {
      "cell_type": "markdown",
      "id": "70806133-49e8-4a00-b2aa-2dc9e088c01d",
      "metadata": {
        "id": "70806133-49e8-4a00-b2aa-2dc9e088c01d"
      },
      "source": [
        "### 10. Create a Python program that uses `filter()` to remove all the vowels from a given string."
      ]
    },
    {
      "cell_type": "code",
      "execution_count": null,
      "id": "da7597f5-7123-4538-9f0e-6cece05961d9",
      "metadata": {
        "id": "da7597f5-7123-4538-9f0e-6cece05961d9",
        "outputId": "e06be661-27d2-4374-bc1e-8465c87a5465"
      },
      "outputs": [
        {
          "name": "stdout",
          "output_type": "stream",
          "text": [
            "Pythn Prgrmmng\n"
          ]
        }
      ],
      "source": [
        "def remove_vowels(s):\n",
        "    return ''.join(filter(lambda c: c.lower() not in 'aeiou', s))\n",
        "\n",
        "# Example\n",
        "print(remove_vowels(\"Python Programming\"))"
      ]
    },
    {
      "cell_type": "markdown",
      "id": "dca7c5e8-b750-417c-b3af-d231b96aeb36",
      "metadata": {
        "id": "dca7c5e8-b750-417c-b3af-d231b96aeb36"
      },
      "source": [
        "### 11. Imagine an accounting routine used in a book shop. It works on a list with sublists, which look like this:"
      ]
    },
    {
      "cell_type": "code",
      "execution_count": null,
      "id": "d72f1dc5-5974-4007-a881-8f9260c4e922",
      "metadata": {
        "id": "d72f1dc5-5974-4007-a881-8f9260c4e922"
      },
      "outputs": [],
      "source": [
        "#Order number                   Book Title and Author                                 Quantity                               Price per Item\n",
        "# 34587                     Learning Python, Mark Lutz                                   4                                         40.95\n",
        "# 98762                     Programming Python, Mark Lutz                                5\t\t                                   56.80\n",
        "# 77226                     Head First Python, Paul Barry                                3                                         32.95\n",
        "# 88112                     Einfuhrung in Python3, Bernd Klein                           3                                         24.99\n"
      ]
    },
    {
      "cell_type": "markdown",
      "id": "cd5bcdcf-64bb-4b82-b299-1afb745b9baa",
      "metadata": {
        "id": "cd5bcdcf-64bb-4b82-b299-1afb745b9baa"
      },
      "source": [
        "### Write a Python program, which returns a list with 2-tuples. Each tuple consists of the order number and the product of the price per item and the quantity. The product should be increased by 10,- € if the value of the order is smaller than 100,00 €. Write a Python program using lambda and map"
      ]
    },
    {
      "cell_type": "code",
      "execution_count": null,
      "id": "59828dc8-7c02-464f-bd9a-c602c076216f",
      "metadata": {
        "id": "59828dc8-7c02-464f-bd9a-c602c076216f",
        "outputId": "ab0b2afb-3ae9-448f-9a4e-68f7d03737f0"
      },
      "outputs": [
        {
          "name": "stdout",
          "output_type": "stream",
          "text": [
            "[(34587, 163.8), (98762, 284.0), (77226, 108.85000000000001), (88112, 84.97)]\n"
          ]
        }
      ],
      "source": [
        "orders = [ (34587, \"Learning Python, Mark Lutz\", 4, 40.95),\n",
        "    (98762, \"Programming Python, Mark Lutz\", 5, 56.80),\n",
        "    (77226, \"Head First Python, Paul Barry\", 3, 32.95),\n",
        "    (88112, \"Einfuhrung in Python3, Bernd Klein\", 3, 24.99)]\n",
        "\n",
        "order_totals =list (map(lambda order:(order[0], order[2]*order[3] if order[2]*order[3] >= 100 else order[2]*order[3]+10), orders))\n",
        "\n",
        "print(order_totals)\n"
      ]
    },
    {
      "cell_type": "code",
      "execution_count": null,
      "id": "472b79d0-fb29-4dc9-b390-e3af7b7e2064",
      "metadata": {
        "id": "472b79d0-fb29-4dc9-b390-e3af7b7e2064"
      },
      "outputs": [],
      "source": []
    }
  ],
  "metadata": {
    "kernelspec": {
      "display_name": "Python [conda env:base] *",
      "language": "python",
      "name": "conda-base-py"
    },
    "language_info": {
      "codemirror_mode": {
        "name": "ipython",
        "version": 3
      },
      "file_extension": ".py",
      "mimetype": "text/x-python",
      "name": "python",
      "nbconvert_exporter": "python",
      "pygments_lexer": "ipython3",
      "version": "3.12.7"
    },
    "colab": {
      "provenance": []
    }
  },
  "nbformat": 4,
  "nbformat_minor": 5
}